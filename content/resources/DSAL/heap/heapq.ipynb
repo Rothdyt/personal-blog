{
 "cells": [
  {
   "cell_type": "code",
   "execution_count": 13,
   "metadata": {
    "execution": {
     "iopub.execute_input": "2020-12-25T20:57:58.877057Z",
     "iopub.status.busy": "2020-12-25T20:57:58.876601Z",
     "iopub.status.idle": "2020-12-25T20:57:58.884004Z",
     "shell.execute_reply": "2020-12-25T20:57:58.882568Z",
     "shell.execute_reply.started": "2020-12-25T20:57:58.876844Z"
    }
   },
   "outputs": [],
   "source": [
    "import heapq\n",
    "\n",
    "class Node:\n",
    "    def __init__(self, val=0):\n",
    "        self.val = val\n",
    "    def __lt__(self, other):\n",
    "        return  self.val < other.val\n",
    "    def __le__(self, other):\n",
    "        return  self.val <= other.val"
   ]
  },
  {
   "cell_type": "code",
   "execution_count": 22,
   "metadata": {
    "execution": {
     "iopub.execute_input": "2020-12-25T20:58:53.492226Z",
     "iopub.status.busy": "2020-12-25T20:58:53.491615Z",
     "iopub.status.idle": "2020-12-25T20:58:53.498434Z",
     "shell.execute_reply": "2020-12-25T20:58:53.497150Z",
     "shell.execute_reply.started": "2020-12-25T20:58:53.491868Z"
    }
   },
   "outputs": [],
   "source": [
    "nodes = [Node(i) for i in range(12,9,-1)]\n",
    "heapq.heapify(nodes)s"
   ]
  },
  {
   "cell_type": "code",
   "execution_count": 23,
   "metadata": {
    "execution": {
     "iopub.execute_input": "2020-12-25T20:58:53.831632Z",
     "iopub.status.busy": "2020-12-25T20:58:53.831137Z",
     "iopub.status.idle": "2020-12-25T20:58:53.836898Z",
     "shell.execute_reply": "2020-12-25T20:58:53.835342Z",
     "shell.execute_reply.started": "2020-12-25T20:58:53.831404Z"
    }
   },
   "outputs": [],
   "source": []
  },
  {
   "cell_type": "code",
   "execution_count": null,
   "metadata": {},
   "outputs": [],
   "source": []
  }
 ],
 "metadata": {
  "kernelspec": {
   "display_name": "Python 3",
   "language": "python",
   "name": "python3"
  },
  "language_info": {
   "codemirror_mode": {
    "name": "ipython",
    "version": 3
   },
   "file_extension": ".py",
   "mimetype": "text/x-python",
   "name": "python",
   "nbconvert_exporter": "python",
   "pygments_lexer": "ipython3",
   "version": "3.7.6"
  }
 },
 "nbformat": 4,
 "nbformat_minor": 4
}
