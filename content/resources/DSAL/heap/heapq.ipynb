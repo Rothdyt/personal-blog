{
 "cells": [
  {
   "cell_type": "code",
   "execution_count": 26,
   "metadata": {
    "execution": {
     "iopub.execute_input": "2020-12-26T14:29:31.987575Z",
     "iopub.status.busy": "2020-12-26T14:29:31.976728Z",
     "iopub.status.idle": "2020-12-26T14:29:32.092110Z",
     "shell.execute_reply": "2020-12-26T14:29:32.089572Z",
     "shell.execute_reply.started": "2020-12-26T14:29:31.985345Z"
    }
   },
   "outputs": [],
   "source": [
    "import heapq\n",
    "\n",
    "class Node:\n",
    "    def __init__(self, val=0):\n",
    "        self.val = val\n",
    "    def __lt__(self, other):\n",
    "        return  self.val < other.val\n",
    "    def __le__(self, other):\n",
    "        return  self.val <= other.val"
   ]
  },
  {
   "cell_type": "code",
   "execution_count": 29,
   "metadata": {
    "execution": {
     "iopub.execute_input": "2020-12-26T14:29:50.595654Z",
     "iopub.status.busy": "2020-12-26T14:29:50.595184Z",
     "iopub.status.idle": "2020-12-26T14:29:50.612500Z",
     "shell.execute_reply": "2020-12-26T14:29:50.611382Z",
     "shell.execute_reply.started": "2020-12-26T14:29:50.595435Z"
    }
   },
   "outputs": [
    {
     "name": "stdout",
     "output_type": "stream",
     "text": [
      "10\n",
      "11\n",
      "12\n"
     ]
    }
   ],
   "source": [
    "nodes = [Node(i) for i in range(12,9,-1)]\n",
    "heapq.heapify(nodes)\n",
    "for node in nodes:\n",
    "    print(node.val)"
   ]
  },
  {
   "cell_type": "code",
   "execution_count": 31,
   "metadata": {
    "execution": {
     "iopub.execute_input": "2020-12-26T14:31:00.353331Z",
     "iopub.status.busy": "2020-12-26T14:31:00.352930Z",
     "iopub.status.idle": "2020-12-26T14:31:00.362859Z",
     "shell.execute_reply": "2020-12-26T14:31:00.360537Z",
     "shell.execute_reply.started": "2020-12-26T14:31:00.353154Z"
    }
   },
   "outputs": [],
   "source": [
    "# use tuple to sort\n",
    "minHeap = [(10, \"apple\"), (2,\"pear\"), (30,\"banana\")]\n",
    "heapq.heapify(minHeap)"
   ]
  },
  {
   "cell_type": "code",
   "execution_count": 32,
   "metadata": {
    "execution": {
     "iopub.execute_input": "2020-12-26T14:31:04.850008Z",
     "iopub.status.busy": "2020-12-26T14:31:04.849652Z",
     "iopub.status.idle": "2020-12-26T14:31:04.873371Z",
     "shell.execute_reply": "2020-12-26T14:31:04.872280Z",
     "shell.execute_reply.started": "2020-12-26T14:31:04.849861Z"
    }
   },
   "outputs": [
    {
     "data": {
      "text/plain": [
       "[(2, 'pear'), (10, 'apple'), (30, 'banana')]"
      ]
     },
     "execution_count": 32,
     "metadata": {},
     "output_type": "execute_result"
    }
   ],
   "source": [
    "minHeap"
   ]
  },
  {
   "cell_type": "code",
   "execution_count": 44,
   "metadata": {
    "execution": {
     "iopub.execute_input": "2020-12-26T14:44:07.169574Z",
     "iopub.status.busy": "2020-12-26T14:44:07.169079Z",
     "iopub.status.idle": "2020-12-26T14:44:07.176327Z",
     "shell.execute_reply": "2020-12-26T14:44:07.175168Z",
     "shell.execute_reply.started": "2020-12-26T14:44:07.169306Z"
    }
   },
   "outputs": [],
   "source": [
    "from collections import defaultdict\n",
    "s = \"helloWorld\"\n",
    "hashTable = defaultdict(int)\n",
    "for char in s:\n",
    "    hashTable[char] += 1\n",
    "maxHeap = []            \n",
    "for key, val in hashTable.items():\n",
    "    heapq.heappush(maxHeap, (-val, key))\n",
    "ans = \"\"\n",
    "for i in maxHeap:\n",
    "    item = heapq.heappop(maxHeap)\n",
    "    ans += -item[0] * item[1]    "
   ]
  },
  {
   "cell_type": "code",
   "execution_count": 45,
   "metadata": {
    "execution": {
     "iopub.execute_input": "2020-12-26T14:44:07.443750Z",
     "iopub.status.busy": "2020-12-26T14:44:07.443345Z",
     "iopub.status.idle": "2020-12-26T14:44:07.450689Z",
     "shell.execute_reply": "2020-12-26T14:44:07.449455Z",
     "shell.execute_reply.started": "2020-12-26T14:44:07.443676Z"
    }
   },
   "outputs": [],
   "source": []
  },
  {
   "cell_type": "code",
   "execution_count": 49,
   "metadata": {
    "execution": {
     "iopub.execute_input": "2020-12-26T14:45:43.736191Z",
     "iopub.status.busy": "2020-12-26T14:45:43.735715Z",
     "iopub.status.idle": "2020-12-26T14:45:43.746665Z",
     "shell.execute_reply": "2020-12-26T14:45:43.745318Z",
     "shell.execute_reply.started": "2020-12-26T14:45:43.735956Z"
    }
   },
   "outputs": [],
   "source": []
  },
  {
   "cell_type": "code",
   "execution_count": 50,
   "metadata": {
    "execution": {
     "iopub.execute_input": "2020-12-26T14:45:46.168332Z",
     "iopub.status.busy": "2020-12-26T14:45:46.167974Z",
     "iopub.status.idle": "2020-12-26T14:45:46.173853Z",
     "shell.execute_reply": "2020-12-26T14:45:46.172764Z",
     "shell.execute_reply.started": "2020-12-26T14:45:46.168182Z"
    }
   },
   "outputs": [
    {
     "data": {
      "text/plain": [
       "'lllooWd'"
      ]
     },
     "execution_count": 50,
     "metadata": {},
     "output_type": "execute_result"
    }
   ],
   "source": [
    "ans"
   ]
  },
  {
   "cell_type": "code",
   "execution_count": null,
   "metadata": {},
   "outputs": [],
   "source": []
  }
 ],
 "metadata": {
  "kernelspec": {
   "display_name": "Python 3",
   "language": "python",
   "name": "python3"
  },
  "language_info": {
   "codemirror_mode": {
    "name": "ipython",
    "version": 3
   },
   "file_extension": ".py",
   "mimetype": "text/x-python",
   "name": "python",
   "nbconvert_exporter": "python",
   "pygments_lexer": "ipython3",
   "version": "3.7.6"
  }
 },
 "nbformat": 4,
 "nbformat_minor": 4
}
